{
 "cells": [
  {
   "cell_type": "code",
   "execution_count": 1,
   "metadata": {},
   "outputs": [
    {
     "name": "stderr",
     "output_type": "stream",
     "text": [
      "/Users/alimollahoseini/Github/VGG/vgg.venv/lib/python3.9/site-packages/tqdm/auto.py:22: TqdmWarning: IProgress not found. Please update jupyter and ipywidgets. See https://ipywidgets.readthedocs.io/en/stable/user_install.html\n",
      "  from .autonotebook import tqdm as notebook_tqdm\n"
     ]
    }
   ],
   "source": [
    "import numpy as np\n",
    "import torch\n",
    "import tqdm\n",
    "from tqdm import tqdm\n",
    "import torch.nn as nn\n",
    "from torchsummary import summary\n",
    "from torch.utils.data.sampler import SubsetRandomSampler\n",
    "import torchvision\n",
    "import torchvision.transforms as transforms\n",
    "import torchvision.datasets as datasets\n",
    "import torch.nn.functional as functional\n",
    "\n",
    "# from google.colab import drive\n",
    "# drive.mount('/content/gdrive')\n",
    "PATH = \"./Checkpoint/model.pt\"\n",
    "\n",
    "# device = torch.device('cuda' if torch.cuda.is_available() else 'cpu')\n",
    "device = 'mps'\n",
    "torch.backends.cudnn.benchmark = True\n",
    "from torch.utils.tensorboard import SummaryWriter\n",
    "writer = SummaryWriter()\n",
    "%load_ext tensorboard"
   ]
  },
  {
   "cell_type": "code",
   "execution_count": 8,
   "metadata": {},
   "outputs": [],
   "source": [
    "class VGG_Net(nn.Module):\n",
    "  def __init__(self, num_classes, net_type=\"VGG-11\", in_channels=3):\n",
    "    super(VGG_Net, self).__init__()\n",
    "\n",
    "    self.VGG = dict()\n",
    "    self.VGG[\"VGG-11\"] = [1, 1, 2, 2, 2] \n",
    "    self.VGG[\"VGG-13\"] = [2, 2, 2, 2, 2] \n",
    "    self.VGG[\"VGG-16\"] = [2, 2, 3, 3, 3] \n",
    "    self.VGG[\"VGG-19\"] = [2, 2, 4, 4, 4]\n",
    "    \n",
    "    # Adding convolutional layers\n",
    "    layers = []\n",
    "    out_channels = 64\n",
    "    for layer_numbers in self.VGG[net_type]:\n",
    "      for _ in range(layer_numbers):\n",
    "        layers += [nn.Conv2d(in_channels=in_channels, out_channels=out_channels, \n",
    "                             kernel_size=(3, 3), stride=1, padding=1),  nn.BatchNorm2d(out_channels), nn.ReLU()]\n",
    "        in_channels=out_channels\n",
    "      layers += [nn.MaxPool2d(kernel_size=(2, 2), stride=2)]\n",
    "      if(out_channels != 512):\n",
    "        out_channels *= 2\n",
    "    self.conv_layers = nn.Sequential(*layers)\n",
    "\n",
    "    # Adding fc layers\n",
    "    self.fc_layers = nn.Sequential(\n",
    "                        nn.Linear(512, 4096),\n",
    "                        nn.ReLU(),\n",
    "                        nn.Dropout(p=0.5),\n",
    "                        nn.Linear(4096, 4096),\n",
    "                        nn.ReLU(),\n",
    "                        nn.Dropout(p=0.5),\n",
    "                        nn.Linear(4096, num_classes))\n",
    "    \n",
    "\n",
    "  def forward(self, input):\n",
    "    x = self.conv_layers(input)\n",
    "    x = x.reshape(x.shape[0], -1)\n",
    "    x = self.fc_layers(x)\n",
    "    x = functional.softmax(x, dim=1)\n",
    "    return x"
   ]
  },
  {
   "cell_type": "code",
   "execution_count": 3,
   "metadata": {},
   "outputs": [],
   "source": [
    "def data_loader(\n",
    "  data_dir,\n",
    "  batch_size,\n",
    "  random_seed=42,\n",
    "  valid_size=0.1,\n",
    "  shuffle=True,\n",
    "  test=False):\n",
    "\n",
    "  transformation = transforms.Compose([\n",
    "              transforms.ToTensor(),\n",
    "              transforms.Normalize((0.5, 0.5, 0.5), (0.5, 0.5, 0.5)),\n",
    "      ])\n",
    "\n",
    "  if test:\n",
    "        dataset = datasets.CIFAR100(\n",
    "          root=data_dir, train=False,\n",
    "        )\n",
    "\n",
    "        data_loader = torch.utils.data.DataLoader(\n",
    "            dataset, batch_size=batch_size, shuffle=shuffle\n",
    "        )\n",
    "\n",
    "        return data_loader\n",
    "\n",
    "  train_dataset = datasets.CIFAR100(\n",
    "      root=data_dir, train=True,\n",
    "      download=True, transform=transformation,\n",
    "  )\n",
    "  valid_dataset = datasets.CIFAR10(\n",
    "      root=data_dir, train=True,\n",
    "      download=True, transform=transformation,\n",
    "  )\n",
    "\n",
    "  num_train = len(train_dataset)\n",
    "  indices = list(range(num_train))\n",
    "  split = int(np.floor(valid_size * num_train))\n",
    "\n",
    "  if shuffle:\n",
    "    np.random.seed(random_seed)\n",
    "    np.random.shuffle(indices)\n",
    "\n",
    "  train_idx, valid_idx = indices[split:], indices[:split]\n",
    "  train_sampler = SubsetRandomSampler(train_idx)\n",
    "  valid_sampler = SubsetRandomSampler(valid_idx)\n",
    "\n",
    "  train_loader = torch.utils.data.DataLoader(\n",
    "\t\ttrain_dataset, batch_size=batch_size, sampler=train_sampler)\n",
    "\n",
    "  valid_loader = torch.utils.data.DataLoader(\n",
    "\t\tvalid_dataset, batch_size=batch_size, sampler=valid_sampler)\n",
    "\n",
    "  return (train_loader, valid_loader)"
   ]
  },
  {
   "cell_type": "code",
   "execution_count": 5,
   "metadata": {},
   "outputs": [
    {
     "name": "stdout",
     "output_type": "stream",
     "text": [
      "Files already downloaded and verified\n",
      "Files already downloaded and verified\n"
     ]
    }
   ],
   "source": [
    "train_loader, valid_loader = data_loader(data_dir='./data',\n",
    "                                         batch_size=64)\n",
    "\n",
    "test_loader = data_loader(data_dir='./data',\n",
    "                              batch_size=64,\n",
    "                              test=True)"
   ]
  },
  {
   "cell_type": "code",
   "execution_count": 9,
   "metadata": {},
   "outputs": [],
   "source": [
    "num_classes = 100\n",
    "num_epochs = 20\n",
    "batch_size = 16\n",
    "learning_rate = 0.001\n",
    "\n",
    "model = VGG_Net(num_classes).to(device)\n",
    "\n",
    "\n",
    "# Loss and optimizer\n",
    "criterion = nn.CrossEntropyLoss()\n",
    "optimizer = torch.optim.Adam(model.parameters(), lr=learning_rate)  "
   ]
  },
  {
   "cell_type": "markdown",
   "metadata": {},
   "source": [
    "# Training"
   ]
  },
  {
   "cell_type": "code",
   "execution_count": 13,
   "metadata": {},
   "outputs": [
    {
     "name": "stderr",
     "output_type": "stream",
     "text": [
      "100%|██████████| 704/704 [01:57<00:00,  5.98it/s]\n"
     ]
    },
    {
     "name": "stdout",
     "output_type": "stream",
     "text": [
      "Epoch [1/20], Step [704/704], Loss: 4.6222\n"
     ]
    },
    {
     "name": "stderr",
     "output_type": "stream",
     "text": [
      "100%|██████████| 704/704 [01:53<00:00,  6.18it/s]\n"
     ]
    },
    {
     "name": "stdout",
     "output_type": "stream",
     "text": [
      "Epoch [2/20], Step [704/704], Loss: 4.6181\n"
     ]
    },
    {
     "name": "stderr",
     "output_type": "stream",
     "text": [
      "100%|██████████| 704/704 [01:55<00:00,  6.08it/s]\n"
     ]
    },
    {
     "name": "stdout",
     "output_type": "stream",
     "text": [
      "Epoch [3/20], Step [704/704], Loss: 4.6194\n"
     ]
    },
    {
     "name": "stderr",
     "output_type": "stream",
     "text": [
      " 22%|██▏       | 158/704 [00:26<01:31,  5.95it/s]\n"
     ]
    },
    {
     "ename": "KeyboardInterrupt",
     "evalue": "",
     "output_type": "error",
     "traceback": [
      "\u001b[0;31m---------------------------------------------------------------------------\u001b[0m",
      "\u001b[0;31mKeyboardInterrupt\u001b[0m                         Traceback (most recent call last)",
      "\u001b[1;32m/Users/alimollahoseini/Github/VGG/VGG.ipynb Cell 7\u001b[0m in \u001b[0;36m<cell line: 4>\u001b[0;34m()\u001b[0m\n\u001b[1;32m     <a href='vscode-notebook-cell:/Users/alimollahoseini/Github/VGG/VGG.ipynb#W6sZmlsZQ%3D%3D?line=12'>13</a>\u001b[0m \u001b[39m# torch.save({\u001b[39;00m\n\u001b[1;32m     <a href='vscode-notebook-cell:/Users/alimollahoseini/Github/VGG/VGG.ipynb#W6sZmlsZQ%3D%3D?line=13'>14</a>\u001b[0m \u001b[39m#     'epoch': epoch,\u001b[39;00m\n\u001b[1;32m     <a href='vscode-notebook-cell:/Users/alimollahoseini/Github/VGG/VGG.ipynb#W6sZmlsZQ%3D%3D?line=14'>15</a>\u001b[0m \u001b[39m#     'model_state_dict': model.state_dict(),\u001b[39;00m\n\u001b[0;32m   (...)\u001b[0m\n\u001b[1;32m     <a href='vscode-notebook-cell:/Users/alimollahoseini/Github/VGG/VGG.ipynb#W6sZmlsZQ%3D%3D?line=17'>18</a>\u001b[0m \u001b[39m#     }, PATH)\u001b[39;00m\n\u001b[1;32m     <a href='vscode-notebook-cell:/Users/alimollahoseini/Github/VGG/VGG.ipynb#W6sZmlsZQ%3D%3D?line=18'>19</a>\u001b[0m \u001b[39m# Backward and optimize\u001b[39;00m\n\u001b[1;32m     <a href='vscode-notebook-cell:/Users/alimollahoseini/Github/VGG/VGG.ipynb#W6sZmlsZQ%3D%3D?line=19'>20</a>\u001b[0m optimizer\u001b[39m.\u001b[39mzero_grad()\n\u001b[0;32m---> <a href='vscode-notebook-cell:/Users/alimollahoseini/Github/VGG/VGG.ipynb#W6sZmlsZQ%3D%3D?line=20'>21</a>\u001b[0m loss\u001b[39m.\u001b[39;49mbackward()\n\u001b[1;32m     <a href='vscode-notebook-cell:/Users/alimollahoseini/Github/VGG/VGG.ipynb#W6sZmlsZQ%3D%3D?line=21'>22</a>\u001b[0m optimizer\u001b[39m.\u001b[39mstep()\n\u001b[1;32m     <a href='vscode-notebook-cell:/Users/alimollahoseini/Github/VGG/VGG.ipynb#W6sZmlsZQ%3D%3D?line=22'>23</a>\u001b[0m \u001b[39mif\u001b[39;00m i \u001b[39m%\u001b[39m \u001b[39m100\u001b[39m \u001b[39m==\u001b[39m \u001b[39m0\u001b[39m:\n\u001b[1;32m     <a href='vscode-notebook-cell:/Users/alimollahoseini/Github/VGG/VGG.ipynb#W6sZmlsZQ%3D%3D?line=23'>24</a>\u001b[0m   \u001b[39m# Write into tensorboard\u001b[39;00m\n",
      "File \u001b[0;32m~/Github/VGG/vgg.venv/lib/python3.9/site-packages/torch/_tensor.py:396\u001b[0m, in \u001b[0;36mTensor.backward\u001b[0;34m(self, gradient, retain_graph, create_graph, inputs)\u001b[0m\n\u001b[1;32m    387\u001b[0m \u001b[39mif\u001b[39;00m has_torch_function_unary(\u001b[39mself\u001b[39m):\n\u001b[1;32m    388\u001b[0m     \u001b[39mreturn\u001b[39;00m handle_torch_function(\n\u001b[1;32m    389\u001b[0m         Tensor\u001b[39m.\u001b[39mbackward,\n\u001b[1;32m    390\u001b[0m         (\u001b[39mself\u001b[39m,),\n\u001b[0;32m   (...)\u001b[0m\n\u001b[1;32m    394\u001b[0m         create_graph\u001b[39m=\u001b[39mcreate_graph,\n\u001b[1;32m    395\u001b[0m         inputs\u001b[39m=\u001b[39minputs)\n\u001b[0;32m--> 396\u001b[0m torch\u001b[39m.\u001b[39;49mautograd\u001b[39m.\u001b[39;49mbackward(\u001b[39mself\u001b[39;49m, gradient, retain_graph, create_graph, inputs\u001b[39m=\u001b[39;49minputs)\n",
      "File \u001b[0;32m~/Github/VGG/vgg.venv/lib/python3.9/site-packages/torch/autograd/__init__.py:173\u001b[0m, in \u001b[0;36mbackward\u001b[0;34m(tensors, grad_tensors, retain_graph, create_graph, grad_variables, inputs)\u001b[0m\n\u001b[1;32m    168\u001b[0m     retain_graph \u001b[39m=\u001b[39m create_graph\n\u001b[1;32m    170\u001b[0m \u001b[39m# The reason we repeat same the comment below is that\u001b[39;00m\n\u001b[1;32m    171\u001b[0m \u001b[39m# some Python versions print out the first line of a multi-line function\u001b[39;00m\n\u001b[1;32m    172\u001b[0m \u001b[39m# calls in the traceback and some print out the last line\u001b[39;00m\n\u001b[0;32m--> 173\u001b[0m Variable\u001b[39m.\u001b[39;49m_execution_engine\u001b[39m.\u001b[39;49mrun_backward(  \u001b[39m# Calls into the C++ engine to run the backward pass\u001b[39;49;00m\n\u001b[1;32m    174\u001b[0m     tensors, grad_tensors_, retain_graph, create_graph, inputs,\n\u001b[1;32m    175\u001b[0m     allow_unreachable\u001b[39m=\u001b[39;49m\u001b[39mTrue\u001b[39;49;00m, accumulate_grad\u001b[39m=\u001b[39;49m\u001b[39mTrue\u001b[39;49;00m)\n",
      "\u001b[0;31mKeyboardInterrupt\u001b[0m: "
     ]
    }
   ],
   "source": [
    "total_step = len(train_loader)\n",
    "\n",
    "\n",
    "for epoch in range(num_epochs):\n",
    "    for i, (images, labels) in enumerate(tqdm(train_loader)):  \n",
    "        # Move tensors to the configured device\n",
    "        images = images.to(device)\n",
    "        labels = labels.to(device)\n",
    "        one_hot_labels = functional.one_hot(labels, num_classes=100).float()\n",
    "        # Forward pass\n",
    "        outputs = model(images)\n",
    "        loss = criterion(outputs, one_hot_labels)\n",
    "        # torch.save({\n",
    "        #     'epoch': epoch,\n",
    "        #     'model_state_dict': model.state_dict(),\n",
    "        #     'optimizer_state_dict': optimizer.state_dict(),\n",
    "        #     'loss': loss,\n",
    "        #     }, PATH)\n",
    "        # Backward and optimize\n",
    "        optimizer.zero_grad()\n",
    "        loss.backward()\n",
    "        optimizer.step()\n",
    "        if i % 100 == 0:\n",
    "          # Write into tensorboard\n",
    "          writer.add_scalar(\"Loss/epoch/batch\", loss, epoch, i)\n",
    "\n",
    "\n",
    "    print ('Epoch [{}/{}], Step [{}/{}], Loss: {:.4f}' \n",
    "                   .format(epoch+1, num_epochs, i+1, total_step, loss.item()))\n",
    "    \n",
    "\n",
    "    # Save a checkpoint\n",
    "    # torch.save({\n",
    "    #         'epoch': epoch,\n",
    "    #         'model_state_dict': model.state_dict(),\n",
    "    #         'optimizer_state_dict': optimizer.state_dict(),\n",
    "    #         'loss': loss,\n",
    "    #         }, PATH)\n",
    "\n",
    "\n",
    "    # Validation\n",
    "with torch.no_grad():\n",
    "    correct = 0\n",
    "    total = 0\n",
    "    for images, labels in valid_loader:\n",
    "        images = images.to(device)\n",
    "        labels = labels.to(device)\n",
    "        outputs = model(images)\n",
    "        _, predicted = torch.max(outputs.data, 1)\n",
    "        total += labels.size(0)\n",
    "        correct += (predicted == labels).sum().item()\n",
    "        del images, labels, outputs\n",
    "\n",
    "    print('Accuracy of the network on the {} validation images: {} %'.format(5000, 100 * correct / total)) \n",
    "# writer.flush()\n"
   ]
  }
 ],
 "metadata": {
  "kernelspec": {
   "display_name": "Python 3.9.13 ('vgg.venv': venv)",
   "language": "python",
   "name": "python3"
  },
  "language_info": {
   "codemirror_mode": {
    "name": "ipython",
    "version": 3
   },
   "file_extension": ".py",
   "mimetype": "text/x-python",
   "name": "python",
   "nbconvert_exporter": "python",
   "pygments_lexer": "ipython3",
   "version": "3.9.13"
  },
  "orig_nbformat": 4,
  "vscode": {
   "interpreter": {
    "hash": "a5b267eb8b2efb7c2201438625bf0f3a2047548ad9b97a3037e06ddd2e9947d9"
   }
  }
 },
 "nbformat": 4,
 "nbformat_minor": 2
}
